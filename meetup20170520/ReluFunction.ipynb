{
 "cells": [
  {
   "cell_type": "code",
   "execution_count": 16,
   "metadata": {},
   "outputs": [
    {
     "data": {
      "image/png": "[encoded data removed]",
      "text/plain": [
       "<matplotlib.figure.Figure at 0x104405668>"
      ]
     },
     "metadata": {},
     "output_type": "display_data"
    }
   ],
   "source": [
    "#import numpy for using decimal places\n",
    "import numpy as np\n",
    "#import pyplot for decribing\n",
    "import matplotlib.pyplot as plt\n",
    "\n",
    "#relu function\n",
    "#here I set e = 0.1 , gradetnt = 1 *x\n",
    "def relu(x, e=0.1):\n",
    "    gradients = 1.0 * (x > 0)\n",
    "    gradients[gradients == 0] = e\n",
    "    return gradients\n",
    "\n",
    "#from -10.0 to 10.0 , 1.0 Shredded \n",
    "x = np.arange(-10.0, 10.0, 1.0)\n",
    "y = relu(x)\n",
    "\n",
    "#label\n",
    "plt.xlabel('input')\n",
    "plt.ylabel('output')\n",
    "plt.plot(x, y)\n",
    "#y-axis-range\n",
    "plt.ylim(-0.1, 1.1)\n",
    "plt.show()"
   ]
  },
  {
   "cell_type": "code",
   "execution_count": null,
   "metadata": {
    "collapsed": true
   },
   "outputs": [],
   "source": []
  }
 ],
 "metadata": {
  "kernelspec": {
   "display_name": "Python 3",
   "language": "python",
   "name": "python3"
  },
  "language_info": {
   "codemirror_mode": {
    "name": "ipython",
    "version": 3
   },
   "file_extension": ".py",
   "mimetype": "text/x-python",
   "name": "python",
   "nbconvert_exporter": "python",
   "pygments_lexer": "ipython3",
   "version": "3.6.1"
  }
 },
 "nbformat": 4,
 "nbformat_minor": 2
}
